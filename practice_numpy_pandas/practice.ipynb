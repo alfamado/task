{
 "cells": [
  {
   "cell_type": "code",
   "execution_count": 3,
   "id": "733e4850",
   "metadata": {},
   "outputs": [
    {
     "name": "stdout",
     "output_type": "stream",
     "text": [
      "[10 15 20 25 30 35 40 45 50] 30.0 12.909944487358056\n"
     ]
    }
   ],
   "source": [
    "# Q1. Create a 1D NumPy array of numbers from 10 to 50 with step size 5. Find its mean and \n",
    "# standard deviation. \n",
    "# Answer: \n",
    "import numpy as np \n",
    "arr = np.arange(10, 55, 5) \n",
    "mean_val = arr.mean() \n",
    "std_val = arr.std() \n",
    "print(arr, mean_val, std_val) "
   ]
  },
  {
   "cell_type": "code",
   "execution_count": 19,
   "id": "c44d2c34",
   "metadata": {},
   "outputs": [
    {
     "name": "stdout",
     "output_type": "stream",
     "text": [
      "None\n"
     ]
    }
   ],
   "source": [
    "# Q2. Generate a 3×3 identity matrix and multiply it with a random 3×3 matrix. \n",
    "I = np.eye(3) \n",
    "A = np.random.randint(1, 10, (3, 3)) \n",
    "result = np.dot(I, A) \n",
    "# print(result)\n",
    "print(result.resize(3, 3))"
   ]
  },
  {
   "cell_type": "code",
   "execution_count": 5,
   "id": "896931d0",
   "metadata": {},
   "outputs": [
    {
     "name": "stdout",
     "output_type": "stream",
     "text": [
      "[[ 1]\n",
      " [ 2]\n",
      " [ 3]\n",
      " [ 4]\n",
      " [ 5]\n",
      " [ 6]\n",
      " [ 7]\n",
      " [ 8]\n",
      " [ 9]\n",
      " [10]\n",
      " [11]\n",
      " [12]\n",
      " [13]\n",
      " [14]\n",
      " [15]\n",
      " [16]\n",
      " [17]\n",
      " [18]\n",
      " [19]\n",
      " [20]\n",
      " [21]\n",
      " [22]\n",
      " [23]\n",
      " [24]\n",
      " [25]]\n"
     ]
    }
   ],
   "source": [
    "# Q3. Create a 5×5 matrix with values 1 to 25, then reshape it into a 25×1 column vector. \n",
    "mat = np.arange(1, 26).reshape(5, 5) \n",
    "col_vec = mat.reshape(25, 1) \n",
    "print(col_vec)"
   ]
  },
  {
   "cell_type": "code",
   "execution_count": 6,
   "id": "a84d1274",
   "metadata": {},
   "outputs": [
    {
     "name": "stdout",
     "output_type": "stream",
     "text": [
      "0.159\n"
     ]
    }
   ],
   "source": [
    "# Q4. Simulate 1000 dice rolls and calculate the probability of getting a sum of 7. \n",
    "dice1 = np.random.randint(1, 7, 1000) \n",
    "dice2 = np.random.randint(1, 7, 1000) \n",
    "sums = dice1 + dice2 \n",
    "prob_7 = np.mean(sums == 7) \n",
    "print(prob_7)"
   ]
  },
  {
   "cell_type": "code",
   "execution_count": 34,
   "id": "be3aae76",
   "metadata": {},
   "outputs": [
    {
     "name": "stdout",
     "output_type": "stream",
     "text": [
      "[[ 2  1]\n",
      " [ 1 -1]]\n",
      "[ 2  1  1 -1]\n",
      "[ 2  1  1 -1]\n",
      "[ 2  1  1 -1]\n",
      "[ 2  1  1 -1]\n",
      "[ 3  1  1 -1]\n",
      "[ 3  1  1 -1]\n"
     ]
    }
   ],
   "source": [
    "# Q5. Solve the system of equations: \n",
    "# 2x + y = 11 \n",
    "# x − y = 1 \n",
    "A = np.array([[2, 1], [1, -1]]) \n",
    "ra = np.ravel(A)\n",
    "print(A)\n",
    "flat = A.flatten()\n",
    "print(ra)\n",
    "print(flat)\n",
    "print(A.reshape(-1))\n",
    "A[0][0] = 3\n",
    "print(flat)\n",
    "print(ra)\n",
    "print(A.reshape(-1))\n",
    "# b = np.array([11, 1]) \n",
    "# solution = np.linalg.solve(A, b) \n",
    "# print(solution) "
   ]
  },
  {
   "cell_type": "code",
   "execution_count": 8,
   "id": "043db6a4",
   "metadata": {},
   "outputs": [
    {
     "name": "stdout",
     "output_type": "stream",
     "text": [
      "[[0.72248837 0.18518892 0.49573358 0.71233005]\n",
      " [0.96711107 0.95421706 0.         0.72804485]\n",
      " [0.07275158 0.05943846 0.97836579 0.84816834]\n",
      " [0.54792527 0.16123074 0.6301894  1.        ]]\n"
     ]
    }
   ],
   "source": [
    "# Q6. Create a 4×4 random matrix and normalize it (values between 0 and 1). \n",
    "mat = np.random.rand(4, 4) \n",
    "normalized = (mat - mat.min()) / (mat.max() - mat.min()) \n",
    "print(normalized) "
   ]
  },
  {
   "cell_type": "code",
   "execution_count": 25,
   "id": "013aeb72",
   "metadata": {},
   "outputs": [
    {
     "name": "stdout",
     "output_type": "stream",
     "text": [
      "5\n"
     ]
    }
   ],
   "source": [
    "# Q7. Compute the dot product and cross product of vectors [3, 4, 5] and [1, 2, 3]. \n",
    "a = np.array([3, 4, 5])\n",
    "a.resize(2, 2)\n",
    "print(np.max(a))\n",
    "# b = np.array([1, 2, 3]) \n",
    "# dot = np.dot(a, b) \n",
    "# cross = np.cross(a, b) \n",
    "# print(dot, cross) "
   ]
  },
  {
   "cell_type": "code",
   "execution_count": 38,
   "id": "2f5070ae",
   "metadata": {},
   "outputs": [
    {
     "name": "stdout",
     "output_type": "stream",
     "text": [
      "[2 3 1]\n",
      "[2 0 1]\n",
      "2\n",
      "1\n",
      "[1 2 3]\n",
      "1\n",
      "3\n"
     ]
    }
   ],
   "source": [
    "a = np.array([2,3,1])\n",
    "sort = a.argsort()\n",
    "min = a.argmin()\n",
    "max= a.argmax()\n",
    "print(a)\n",
    "print(sort)\n",
    "print(min)\n",
    "print(max)\n",
    "print(a[sort])\n",
    "print(a[min])\n",
    "print(a[max])"
   ]
  },
  {
   "cell_type": "code",
   "execution_count": null,
   "id": "98742e8d",
   "metadata": {},
   "outputs": [],
   "source": [
    "# Q8. Students Dataset \n",
    "# students.csv → columns: Name, Age, Gender, Score \n",
    "# Load dataset. \n",
    "# Find average score by gender. \n",
    "# Filter students scoring above 70. \n",
    "# Plot histogram of scores. \n",
    "# import pandas as pd \n",
    "# import matplotlib.pyplot as plt \n",
    "# df = pd.read_csv(\"students.csv\") \n",
    "# print(df.groupby(\"Gender\")[\"Score\"].mean()) \n",
    "# print(df[df[\"Score\"] > 70]) \n",
    "# df[\"Score\"].hist() \n",
    "# plt.show() "
   ]
  },
  {
   "cell_type": "code",
   "execution_count": null,
   "id": "7211c384",
   "metadata": {},
   "outputs": [],
   "source": [
    "# Q9. Sales Dataset \n",
    "# sales.csv → columns: Date, Product, Sales \n",
    "# Convert Date to datetime. \n",
    "# Total sales by product. \n",
    "# Find best-selling product. \n",
    "# Plot sales trend over time. \n",
    "# df = pd.read_csv(\"sales.csv\") \n",
    "# df[\"Date\"] = pd.to_datetime(df[\"Date\"]) \n",
    "# print(df.groupby(\"Product\")[\"Sales\"].sum()) \n",
    "# print(df.groupby(\"Product\")[\"Sales\"].sum().idxmax()) \n",
    "# df.groupby(\"Date\")[\"Sales\"].sum().plot() \n",
    "# plt.show()"
   ]
  },
  {
   "cell_type": "code",
   "execution_count": null,
   "id": "27b4a819",
   "metadata": {},
   "outputs": [],
   "source": [
    "# Q10. Employees Dataset \n",
    "# employees.csv → columns: ID, Name, Department, Salary \n",
    "# Handle missing salaries (fill with mean). \n",
    "# Find department with highest avg salary. \n",
    "# Plot salary distribution. \n",
    "# df = pd.read_csv(\"employees.csv\") \n",
    "# df[\"Salary\"].fillna(df[\"Salary\"].mean(), inplace=True) \n",
    "# print(df.groupby(\"Department\")[\"Salary\"].mean()) \n",
    "# df[\"Salary\"].hist() \n",
    "# plt.show() "
   ]
  },
  {
   "cell_type": "code",
   "execution_count": null,
   "id": "963fc5fd",
   "metadata": {},
   "outputs": [],
   "source": [
    "# Q11. Movies Dataset \n",
    "# movies.csv → columns: Title, Genre, Rating \n",
    "# Count number of movies per genre. \n",
    "# Find highest-rated movie. \n",
    "# Plot bar chart of genre counts. \n",
    "# df = pd.read_csv(\"movies.csv\") \n",
    "# print(df[\"Genre\"].value_counts()) \n",
    "# print(df.loc[df[\"Rating\"].idxmax()]) \n",
    "# df[\"Genre\"].value_counts().plot(kind=\"bar\") \n",
    "# plt.show() "
   ]
  },
  {
   "cell_type": "code",
   "execution_count": null,
   "id": "4dcda4b8",
   "metadata": {},
   "outputs": [],
   "source": [
    "# Q12. E-commerce Orders \n",
    "# orders.csv → columns: OrderID, Customer, Amount, Country \n",
    "# Total revenue by country. \n",
    "# Find top 5 customers by amount. \n",
    "# Plot revenue by country. \n",
    "# df = pd.read_csv(\"orders.csv\") \n",
    "# print(df.groupby(\"Country\")[\"Amount\"].sum()) \n",
    "# print(df.groupby(\"Customer\")[\"Amount\"].sum().nlargest(5)) \n",
    "# df.groupby(\"Country\")[\"Amount\"].sum().plot(kind=\"bar\") \n",
    "# plt.show() "
   ]
  },
  {
   "cell_type": "code",
   "execution_count": null,
   "id": "38d12bdb",
   "metadata": {},
   "outputs": [],
   "source": [
    "# Q13. Weather Dataset \n",
    "# weather.csv → columns: Date, Temp, Rainfall \n",
    "# Find hottest day. \n",
    "# Average temperature. \n",
    "# Plot temperature trend. \n",
    "# df = pd.read_csv(\"weather.csv\") \n",
    "# print(df.loc[df[\"Temp\"].idxmax()]) \n",
    "# print(df[\"Temp\"].mean()) \n",
    "# df[\"Temp\"].plot() \n",
    "# plt.show() "
   ]
  },
  {
   "cell_type": "code",
   "execution_count": null,
   "id": "e2e17152",
   "metadata": {},
   "outputs": [],
   "source": [
    "# Q14. COVID-19 Cases \n",
    "# covid.csv → columns: Date, Country, Cases \n",
    "# Total cases by country. \n",
    "# Find day with highest global cases. \n",
    "# Plot top 5 countries with most cases. \n",
    "# df = pd.read_csv(\"covid.csv\") \n",
    "# print(df.groupby(\"Country\")[\"Cases\"].sum()) \n",
    "# print(df.groupby(\"Date\")[\"Cases\"].sum().idxmax()) \n",
    "# df.groupby(\"Country\")[\"Cases\"].sum().nlargest(5).plot(kind=\"bar\") \n",
    "# plt.show() "
   ]
  },
  {
   "cell_type": "code",
   "execution_count": null,
   "id": "962df212",
   "metadata": {},
   "outputs": [],
   "source": []
  }
 ],
 "metadata": {
  "kernelspec": {
   "display_name": "statenv",
   "language": "python",
   "name": "python3"
  },
  "language_info": {
   "codemirror_mode": {
    "name": "ipython",
    "version": 3
   },
   "file_extension": ".py",
   "mimetype": "text/x-python",
   "name": "python",
   "nbconvert_exporter": "python",
   "pygments_lexer": "ipython3",
   "version": "3.13.5"
  }
 },
 "nbformat": 4,
 "nbformat_minor": 5
}
