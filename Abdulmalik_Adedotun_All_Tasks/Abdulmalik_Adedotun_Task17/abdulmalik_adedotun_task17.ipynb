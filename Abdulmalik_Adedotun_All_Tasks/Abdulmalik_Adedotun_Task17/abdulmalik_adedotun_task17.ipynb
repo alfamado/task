{
 "cells": [
  {
   "cell_type": "markdown",
   "id": "abbc51bc",
   "metadata": {},
   "source": [
    "```\n",
    "1. Create a new 5×4 matrix of scores (5 students, 4 subjects). \n",
    "Compute each student’s total score\n",
    "\n",
    "student_score = [[65, 70, 54, 43], \n",
    "                 [87, 45, 89, 46],\n",
    "                 [76, 90, 34, 56],\n",
    "                 [78, 54, 76, 51],\n",
    "                 [76, 34, 97, 39]]\n",
    "\n",
    "student_score_total(student 1) = (65 + 70 + 54 + 43) = 232\n",
    "student_score_total(student 1) = (65 + 70 + 54 + 43) = 267\n",
    "student_score_total(student 1) = (65 + 70 + 54 + 43) = 256\n",
    "student_score_total(student 1) = (65 + 70 + 54 + 43) = 259\n",
    "student_score_total(student 1) = (65 + 70 + 54 + 43) = 246\n",
    "\n",
    "students_average_subject(subject 1) = (65 + 87 + 76 + 78 + 76) / 5 = 76.4\n",
    "students_average_subject(subject 2) = (70 + 45 + 90 + 54 + 34) / 5 = 58.6\n",
    "students_average_subject(subject 3) = (54 + 89 + 34 + 76 + 97) / 5 = 70\n",
    "students_average_subject(subject 4) = (43 + 46 + 56 + 51 + 39) / 5 = 47\n",
    "```"
   ]
  },
  {
   "cell_type": "markdown",
   "id": "f1714fb1",
   "metadata": {},
   "source": [
    "```\n",
    "2. Suppose one subject (e.g., Science) is 3 times more important than others. \n",
    "Apply scalar multiplication and recompute totals.\n",
    "\n",
    "upgrading the last column subject by 1.5 based on result performance using scalar multiplication concept\n",
    "last subject column scores = [43, 46, 56, 51, 39] * 1.5\n",
    "new_last_column_score = [64, 69, 84, 76, 58]\n",
    "\n",
    "new student score in the new upgraded subject \n",
    "student_score = [[65, 70, 54, 64], \n",
    "                 [87, 45, 89, 69],\n",
    "                 [76, 90, 34, 84],\n",
    "                 [78, 54, 76, 76],\n",
    "                 [76, 34, 97, 58]]\n",
    "\n",
    "new_subject_sum = [253, 290, 284, 284, 265]\n",
    "```"
   ]
  },
  {
   "cell_type": "markdown",
   "id": "0130adb7",
   "metadata": {},
   "source": [
    "```\n",
    "3. Define new weights for grading (e.g., 40%, 20%, 30%, 10%). Compute final grades using matrix multiplication. \n",
    "\n",
    "student_percentage = student_score / 100\n",
    "student_score_in_percentage = [[0.65, 0.70, 0.54, 0.64], \n",
    "                               [0.87, 0.45, 0.89, 0.69],\n",
    "                               [0.76, 0.90, 0.34, 0.84],\n",
    "                               [0.78, 0.54, 0.76, 0.76],\n",
    "                               [0.76, 0.34, 0.97, 0.58]]\n",
    "```\n"
   ]
  },
  {
   "cell_type": "markdown",
   "id": "2e091598",
   "metadata": {},
   "source": [
    "```\n",
    "4. Compare Student 3 and Student 4 using vector subtraction. Who performed better in each subject?\n",
    "\n",
    "student_score = [[65, 70, 54, 64], \n",
    "                 [87, 45, 89, 69],\n",
    "                 [76, 90, 34, 84],\n",
    "                 [78, 54, 76, 76],\n",
    "                 [76, 34, 97, 58]]\n",
    "\n",
    "student_three_score = [76, 90, 34, 84]\n",
    "student_four_score = [78, 54, 76, 76]\n",
    "\n",
    "adding student three  subject scores  = 76 + 90 + 34 + 84 = 284\n",
    "adding student four  subject scores  = 78 + 54 + 76 + 76 = 284\n",
    "\n",
    "since the aggregate score of student 3 and 4 are the same the both got the same mark, which means their grades are equal based on both sum and average of subject grade.\n"
   ]
  },
  {
   "cell_type": "code",
   "execution_count": 76,
   "id": "4852b0e3",
   "metadata": {},
   "outputs": [
    {
     "name": "stdout",
     "output_type": "stream",
     "text": [
      "Total score of each student:\n",
      "\n"
     ]
    },
    {
     "data": {
      "text/plain": [
       "array([232, 267, 256, 259, 246])"
      ]
     },
     "execution_count": 76,
     "metadata": {},
     "output_type": "execute_result"
    }
   ],
   "source": [
    "import numpy as np\n",
    "\n",
    "# 1. Create a new 5×4 matrix of scores (5 students, 4 subjects). \n",
    "# Compute each student’s total score\n",
    "\n",
    "student_score = np.array([[65, 70, 54, 43], \n",
    "                          [87, 45, 89, 46],\n",
    "                          [76, 90, 34, 56],\n",
    "                          [78, 54, 76, 51],\n",
    "                          [76, 34, 97, 39]])\n",
    "\n",
    "Total_score = np.sum(student_score, axis=1)\n",
    "print(\"Total score of each student:\\n\")\n",
    "Total_score"
   ]
  },
  {
   "cell_type": "code",
   "execution_count": 77,
   "id": "5909b4cd",
   "metadata": {},
   "outputs": [
    {
     "name": "stdout",
     "output_type": "stream",
     "text": [
      "Average score of student:\n"
     ]
    },
    {
     "data": {
      "text/plain": [
       "array([76.4, 58.6, 70. , 47. ])"
      ]
     },
     "execution_count": 77,
     "metadata": {},
     "output_type": "execute_result"
    }
   ],
   "source": [
    "# The average per subject. \n",
    "average_score = np.average(student_score, axis=0)\n",
    "print(\"Average score of student:\")\n",
    "average_score"
   ]
  },
  {
   "cell_type": "code",
   "execution_count": 78,
   "id": "eed8fada",
   "metadata": {},
   "outputs": [
    {
     "data": {
      "text/plain": [
       "array([[65, 70, 54, 64],\n",
       "       [87, 45, 89, 69],\n",
       "       [76, 90, 34, 84],\n",
       "       [78, 54, 76, 76],\n",
       "       [76, 34, 97, 58]])"
      ]
     },
     "execution_count": 78,
     "metadata": {},
     "output_type": "execute_result"
    }
   ],
   "source": [
    "#2. Suppose one subject (e.g., Science) is 3 times more important than others. \n",
    "# Apply scalar multiplication and recompute totals.\n",
    "upgrade = 1.5\n",
    "science_student_score = student_score[:, 3:].copy()\n",
    "new_student_score = science_student_score * upgrade\n",
    "student_score[:, 3:] = new_student_score\n",
    "student_score"
   ]
  },
  {
   "cell_type": "code",
   "execution_count": 79,
   "id": "bc6d37bb",
   "metadata": {},
   "outputs": [
    {
     "data": {
      "text/plain": [
       "array([253, 290, 284, 284, 265])"
      ]
     },
     "execution_count": 79,
     "metadata": {},
     "output_type": "execute_result"
    }
   ],
   "source": [
    "# recomputing totals.\n",
    "new_student_total = np.sum(student_score, axis=1)\n",
    "new_student_total"
   ]
  },
  {
   "cell_type": "code",
   "execution_count": 80,
   "id": "4ab0b3ab",
   "metadata": {},
   "outputs": [
    {
     "data": {
      "text/plain": [
       "array([[0.65, 0.7 , 0.54, 0.64],\n",
       "       [0.87, 0.45, 0.89, 0.69],\n",
       "       [0.76, 0.9 , 0.34, 0.84],\n",
       "       [0.78, 0.54, 0.76, 0.76],\n",
       "       [0.76, 0.34, 0.97, 0.58]])"
      ]
     },
     "execution_count": 80,
     "metadata": {},
     "output_type": "execute_result"
    }
   ],
   "source": [
    "# 3. Define new weights for grading (e.g., 40%, 20%, 30%, 10%). \n",
    "# Compute final grades using matrix multiplication. \n",
    "percent_student_score = student_score / 100\n",
    "percent_student_score"
   ]
  },
  {
   "cell_type": "code",
   "execution_count": 81,
   "id": "83642cf2",
   "metadata": {},
   "outputs": [
    {
     "data": {
      "text/plain": [
       "array([ -2,  36, -42,   8])"
      ]
     },
     "execution_count": 81,
     "metadata": {},
     "output_type": "execute_result"
    }
   ],
   "source": [
    "# 4. Compare Student 3 and Student 4 using vector subtraction. \n",
    "# Who performed better in each subject\n",
    "up_student_3_4 = student_score[2, :] - student_score[3, :]\n",
    "up_student_3_4\n"
   ]
  },
  {
   "cell_type": "code",
   "execution_count": 82,
   "id": "200c6a5f",
   "metadata": {},
   "outputs": [
    {
     "data": {
      "text/plain": [
       "array([  2, -36,  42,  -8])"
      ]
     },
     "execution_count": 82,
     "metadata": {},
     "output_type": "execute_result"
    }
   ],
   "source": [
    "down_student_4_3 = student_score[3, :] - student_score[2, :]\n",
    "down_student_4_3"
   ]
  },
  {
   "cell_type": "code",
   "execution_count": 83,
   "id": "03357b6d",
   "metadata": {},
   "outputs": [
    {
     "name": "stdout",
     "output_type": "stream",
     "text": [
      "Equal score\n"
     ]
    }
   ],
   "source": [
    "if np.sum(up_student_3_4) == np.sum(down_student_4_3):\n",
    "    print(\"Equal score\")\n",
    "elif np.sum(up_student_3_4) > np.sum(down_student_4_3):\n",
    "    print(\"Student 3 performed better\")\n",
    "else:\n",
    "    print(\"Student 3 performed better\")"
   ]
  }
 ],
 "metadata": {
  "kernelspec": {
   "display_name": "dataenv",
   "language": "python",
   "name": "python3"
  },
  "language_info": {
   "codemirror_mode": {
    "name": "ipython",
    "version": 3
   },
   "file_extension": ".py",
   "mimetype": "text/x-python",
   "name": "python",
   "nbconvert_exporter": "python",
   "pygments_lexer": "ipython3",
   "version": "3.13.5"
  }
 },
 "nbformat": 4,
 "nbformat_minor": 5
}
