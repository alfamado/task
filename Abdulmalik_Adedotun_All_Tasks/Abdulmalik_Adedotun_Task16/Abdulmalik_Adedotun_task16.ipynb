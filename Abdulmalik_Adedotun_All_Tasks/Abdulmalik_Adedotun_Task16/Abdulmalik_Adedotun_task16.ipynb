{
 "cells": [
  {
   "cell_type": "code",
   "execution_count": 3,
   "id": "1a1e9a4f",
   "metadata": {},
   "outputs": [
    {
     "name": "stdout",
     "output_type": "stream",
     "text": [
      "Compute cA:\n",
      " [[ 4 -2]\n",
      " [ 0  6]]\n",
      "Compute dB:\n",
      " [[ 3 12]\n",
      " [-6 15]]\n",
      "Compute (c+d)A:\n",
      " [[10 -5]\n",
      " [ 0 15]]\n"
     ]
    }
   ],
   "source": [
    "import numpy as np\n",
    "\n",
    "A = np.array([[2, -1],\n",
    "              [0, 3]])\n",
    "\n",
    "B = np.array([[1, 4],\n",
    "              [-2, 5]])\n",
    "\n",
    "c = 2\n",
    "\n",
    "d = 3\n",
    "\n",
    "# a) compute the following: (cA), (dB) and (c+d)A\n",
    "cA = c * A\n",
    "dB = d * B\n",
    "cd_A = (c + d) * A\n",
    "\n",
    "print(\"Compute cA:\\n\", cA)\n",
    "print(\"Compute dB:\\n\", dB)\n",
    "print(\"Compute (c+d)A:\\n\", cd_A)"
   ]
  },
  {
   "cell_type": "code",
   "execution_count": null,
   "id": "4e2a9149",
   "metadata": {},
   "outputs": [
    {
     "name": "stdout",
     "output_type": "stream",
     "text": [
      "left side of associativity of scalar multiplication:\n",
      " [[12 -6]\n",
      " [ 0 18]]\n",
      "right side of associativity of scalar multiplication:\n",
      " [[12 -6]\n",
      " [ 0 18]]\n",
      "checking if associativity of scalar multiplication is right: True\n"
     ]
    }
   ],
   "source": [
    "# b) Using the results gotten, verify the scalar multiplication properties\n",
    "# 1) Associativity of scalar multiplication: (c.d)A = c.(dA)\n",
    "left_cd_A = (c * d) * A\n",
    "right_c_dA = c * (d * A)\n",
    "\n",
    "print(\"left side of associativity of scalar multiplication:\\n\", left_cd_A)\n",
    "print(\"right side of associativity of scalar multiplication:\\n\", right_c_dA)\n",
    "print(\"checking if associativity of scalar multiplication is True or False\", np.array_equal(left_cd_A, right_c_dA))"
   ]
  },
  {
   "cell_type": "code",
   "execution_count": null,
   "id": "2ba92d5c",
   "metadata": {},
   "outputs": [
    {
     "name": "stdout",
     "output_type": "stream",
     "text": [
      "left side of distributivity over matrix addition:\n",
      " [[ 6  6]\n",
      " [-4 16]]\n",
      "right side of distributivity over matrix addition:\n",
      " [[ 6  6]\n",
      " [-4 16]]\n",
      "checking if distributivity over matrix addition is right: True\n"
     ]
    }
   ],
   "source": [
    "# 2) Distributivity over matrix addition: c(A+B) = cA + cB\n",
    "left_c_AB = c * (A + B)\n",
    "right_cA_cB = (c * A) + (c * B)\n",
    "\n",
    "print(\"left side of distributivity over matrix addition:\\n\", left_c_AB)\n",
    "print(\"right side of distributivity over matrix addition:\\n\", right_cA_cB)\n",
    "print(\"checking if distributivity over matrix addition is True or False:\", np.array_equal(left_c_AB, right_cA_cB))"
   ]
  },
  {
   "cell_type": "code",
   "execution_count": null,
   "id": "9c254f60",
   "metadata": {},
   "outputs": [
    {
     "name": "stdout",
     "output_type": "stream",
     "text": [
      "left side of distributivity over scalar addition:\n",
      " [[10 -5]\n",
      " [ 0 15]]\n",
      "right side of distributivity over scalar addition:\n",
      " [[10 -5]\n",
      " [ 0 15]]\n",
      "checking if distributivity over scalar addition is right: True\n"
     ]
    }
   ],
   "source": [
    "# 3) Distributivity over scalar addition: (c+d)A = cA + dA\n",
    "left_cd_A = (c + d) * A\n",
    "right_cA_dA = (c * A) + (d * A)\n",
    "\n",
    "print(\"left side of distributivity over scalar addition:\\n\", left_cd_A)\n",
    "print(\"right side of distributivity over scalar addition:\\n\", right_cA_dA)\n",
    "print(\"checking if distributivity over scalar addition is True or False:\", np.array_equal(left_cd_A, right_cA_dA))"
   ]
  },
  {
   "cell_type": "code",
   "execution_count": 8,
   "id": "cac66da4",
   "metadata": {},
   "outputs": [
    {
     "name": "stdout",
     "output_type": "stream",
     "text": [
      "Transpose of matrix A:\n",
      " [[ 2  0]\n",
      " [-1  3]]\n",
      "Transpose of matrix B:\n",
      " [[ 1 -2]\n",
      " [ 4  5]]\n"
     ]
    }
   ],
   "source": [
    "# c) Find the transpose of both matrices\n",
    "print(\"Transpose of matrix A:\\n\", A.T)\n",
    "print(\"Transpose of matrix B:\\n\", B.T)"
   ]
  },
  {
   "cell_type": "code",
   "execution_count": null,
   "id": "becfffb9",
   "metadata": {},
   "outputs": [
    {
     "name": "stdout",
     "output_type": "stream",
     "text": [
      "Determinant of matrix A: 6.0\n",
      "Determinant of matrix B: 13.0\n",
      "check if determinant of matrix A is equal to zero, if True can inverse:  True\n",
      "check if determinant of matrix B is equal to zero, if True can inverse:  True\n",
      "Inverse of matrix A:\n",
      " [[0.5        0.16666667]\n",
      " [0.         0.33333333]]\n",
      "Inverse of matrix B:\n",
      " [[ 0.38461538 -0.30769231]\n",
      " [ 0.15384615  0.07692308]]\n"
     ]
    }
   ],
   "source": [
    "# d) Check if (A) and (B) are invertible by computing their determinants. if they are invertible, find A inverse and B inverse\n",
    "det_A = np.linalg.det(A)\n",
    "det_B = np.linalg.det(B)\n",
    "\n",
    "print(f\"Determinant of matrix A: {det_A}\")\n",
    "print(f\"Determinant of matrix B: {det_B}\")\n",
    "\n",
    "print(\"check if determinant of matrix A is not equal to zero, if True can inverse, else can not: \", np.not_equal(det_A, 0))\n",
    "print(\"check if determinant of matrix B is not equal to zero, if True can inverse, else can not: \", np.not_equal(det_B, 0))\n",
    "\n",
    "inverse_A = np.linalg.inv(A)\n",
    "inverse_B = np.linalg.inv(B)\n",
    "\n",
    "print(\"Inverse of matrix A:\\n\", inverse_A)\n",
    "print(\"Inverse of matrix B:\\n\", inverse_B)"
   ]
  },
  {
   "cell_type": "code",
   "execution_count": null,
   "id": "a4bc1ae4",
   "metadata": {},
   "outputs": [],
   "source": []
  }
 ],
 "metadata": {
  "kernelspec": {
   "display_name": "dataenv",
   "language": "python",
   "name": "python3"
  },
  "language_info": {
   "codemirror_mode": {
    "name": "ipython",
    "version": 3
   },
   "file_extension": ".py",
   "mimetype": "text/x-python",
   "name": "python",
   "nbconvert_exporter": "python",
   "pygments_lexer": "ipython3",
   "version": "3.13.5"
  }
 },
 "nbformat": 4,
 "nbformat_minor": 5
}
