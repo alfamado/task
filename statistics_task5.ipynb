{
 "cells": [
  {
   "cell_type": "markdown",
   "id": "02b14846",
   "metadata": {},
   "source": [
    "# CLASS TASK\n",
    "\n",
    "## Given the following Concepts: Read about them, and explain them\n",
    "\n",
    "### 1) Chi-square test (for categorical data),\n",
    "\n",
    "### 2) ANOVA (for comparing more than two means),\n",
    "\n",
    "### 3) Two Tailed Tests\n",
    "\n",
    "### 4) Proportion Tests\n"
   ]
  },
  {
   "cell_type": "markdown",
   "id": "2d9d5f79",
   "metadata": {},
   "source": []
  },
  {
   "cell_type": "markdown",
   "id": "9e8ff5e9",
   "metadata": {},
   "source": []
  }
 ],
 "metadata": {
  "language_info": {
   "name": "python"
  }
 },
 "nbformat": 4,
 "nbformat_minor": 5
}
