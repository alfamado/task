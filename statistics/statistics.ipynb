{
 "cells": [
  {
   "cell_type": "markdown",
   "id": "1330261f",
   "metadata": {},
   "source": [
    "## Task1– Mean, Median & Mode\n",
    "### Question 1: Class Test Scores\n",
    "The following are the Mathematics test scores (out of 20) for a class of 15 students: 5, 8, 10, 12, 12, 12, 13, 14, 14, 15, 16, 18, 18, 20, 20\n",
    "    a) Find the mean, median, and mode of the scores.\n",
    "    b) If the lowest score (5) was wrongly recorded and should have been 10, how would the mean change? Would the median or mode change? Explain.\n",
    "\n",
    "### Solution\n",
    "```c\n",
    "A) Mean is sum of dataset divided by yotal number of the dataset\n",
    "Mean = (5 + 8 + 10 + 12 + 12 + 12 + 13 + 14 + 14 + 15 + 16 + 18 + 18 + 20 + 20) / 15\n",
    "mean = 207/15\n",
    "mwan = 13.8\n",
    "\n",
    "Median is the number in the middle of the dataset after arranging them in ascending order\n",
    "median - 5, 8, 10, 12, 12, 12, 13, 14, 14, 15, 16, 18, 18, 20, 20\n",
    "median = 14\n",
    "\n",
    "Mode is the number that occured most in the dataset\n",
    "mode - 5, 8, 10, 12, 12, 12, 13, 14, 14, 15, 16, 18, 18, 20, 20\n",
    "mode = 12\n",
    "\n",
    "B) If the lowest score should have been 10 instead of 5, then there's going to be a difference in the mean. calculation for new mean is\n",
    "Mean = (10 + 8 + 10 + 12 + 12 + 12 + 13 + 14 + 14 + 15 + 16 + 18 + 18 + 20 + 20) / 15\n",
    "mean = 212 / 15\n",
    "mean = 14.13\n",
    "\n",
    "The median is going to remain the same since the change is in a value of one of the dataset not the number of dataset.\n",
    "\n",
    "The mode also stay the same because the new value isn't an increase in the numbers closer to the mode value we have i.e the mode we have is 12 which occurs three times but the new value only added one to the occured number which is 10, making the occurrence of 10 twice and not three for the required number for the mode to change.\n",
    "```"
   ]
  },
  {
   "cell_type": "markdown",
   "id": "e57804c1",
   "metadata": {},
   "source": []
  },
  {
   "cell_type": "markdown",
   "id": "5c2d8b83",
   "metadata": {},
   "source": [
    "### Question 2: Daily Commute Times\n",
    "```c\n",
    "A group of 9 students reported the time (in minutes) it takes them to get to school each day: 15, 20, 20, 25, 25, 30, 60, 65, 120\n",
    "\n",
    "A) Find the mean, median, and mode of the data.\n",
    "\n",
    "B) Which measure (mean, median, or mode) do you think best represents the “typical” time it takes students to get to school? Why?\n",
    " (Hint: Think about the effect of the student who takes 120 minutes.)\n",
    "```\n",
    "### Solution\n",
    "```c\n",
    "A) mean = (15 + 20 + 20 + 25 + 25 + 30 + 60 + 65 + 120) / 9\n",
    "mean = 380 / 9\n",
    "mean = 42.22\n",
    "dataset = 15, 20, 20, 25, 25, 30, 60, 65, 120\n",
    "median = 25\n",
    "\n",
    "dataset = 15, 20, 20, 25, 25, 30, 60, 65, 120\n",
    "mode = 20 and 25\n",
    "which means our dataset is a bimodal\n",
    "\n",
    "B) the mode best represent the typical time it takes students to get to school because our dataset isn't representive for mean because of some gaps in the timing of some students, median isn't the best measure for the kind of dataset since the value of the dataset aren't close but for mode we look at the occurrence of student at a particulat time. Most common time students do show up.\n",
    "```"
   ]
  },
  {
   "cell_type": "markdown",
   "id": "50a4df33",
   "metadata": {},
   "source": [
    "## Question 3: Shoe Sizes\n",
    "```c\n",
    "The shoe sizes of students in a class are: 38, 39, 38, 40, 41, 42, 39, 39, 40, 38, 37, 39, 40, 41, 42\n",
    "\n",
    "A) Find the mode of the data.\n",
    "\n",
    "B) If a shoe company wants to donate free shoes, which size should they produce most of? Why?\n",
    "\n",
    "C) What if they only want to produce one size that would fit the \"average\" student? Should they use mean, median, or mode? Defend your answer.\n",
    "```\n",
    "### Solution\n",
    "```c\n",
    "dataset - 38, 39, 38, 40, 41, 42, 39, 39, 40, 38, 37, 39, 40, 41, 42\n",
    "To get the mode, let's rearrange the dataset in an ascending order.\n",
    "dataset - 37, 38, 38, 38, 39, 39, 39, 39, 40, 40, 40, 41, 41, 42, 42\n",
    "1) mode = 39\n",
    "2) They should probably produce size 39 because the probability of getting someone of that size is higher than any other size on the dataset\n",
    "3) They should also use mode because of the frequent by which it's been worn by student."
   ]
  },
  {
   "cell_type": "markdown",
   "id": "d404c9fa",
   "metadata": {},
   "source": []
  }
 ],
 "metadata": {
  "language_info": {
   "name": "python"
  }
 },
 "nbformat": 4,
 "nbformat_minor": 5
}
