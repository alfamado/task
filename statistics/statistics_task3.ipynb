{
 "cells": [
  {
   "cell_type": "markdown",
   "id": "5d1c035f",
   "metadata": {},
   "source": [
    "## Measure of Spread\n",
    "### Range and Variance\n",
    "```c\n",
    "Question: Given([4, 8, 6, 5, 3]), find the variance of the dataset.\n",
    "\n",
    "Solution:\n",
    "finding the mean of the dataset\n",
    "mean = (4 + 8 + 6 + 5 + 3) / 5\n",
    "mean = 26 / 5\n",
    "mean = 5.2\n",
    "getting the variance is subtracting each value in the dataset with the mean, squaring the difference and summing all the squared difference, then dividing it by the number of values in the dataset.\n",
    "value 1 = (4 - 5.2)² = (-1.2)² = 1.44\n",
    "value 2 = (8 - 5.2)² = (2.8)² = 7.84\n",
    "value 3 = (6 - 5.2)² = (0.8)² = 0.64\n",
    "value 4 = (5 - 5.2)² = (-0.2)² = 0.04\n",
    "value 5 = (3 - 5.2)² = (-2.2)² = 4.84\n",
    "\n",
    "variance = (1.44 + 7.84 + 0.64 + 0.04 + 4.84) / 5\n",
    "variance = 14.8 / 5\n",
    "variance = 2.96\n",
    "```"
   ]
  },
  {
   "cell_type": "markdown",
   "id": "4b70fdc0",
   "metadata": {},
   "source": []
  }
 ],
 "metadata": {
  "language_info": {
   "name": "python"
  }
 },
 "nbformat": 4,
 "nbformat_minor": 5
}
