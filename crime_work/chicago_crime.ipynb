{
 "cells": [
  {
   "cell_type": "code",
   "execution_count": 41,
   "id": "97b14e47",
   "metadata": {},
   "outputs": [],
   "source": [
    "import pandas as pd\n",
    "import numpy as np\n",
    "import matplotlib.pyplot as plt\n",
    "import seaborn as sns\n",
    "from datetime import datetime, timedelta\n",
    "import warnings\n",
    "warnings.filterwarnings('ignore')\n",
    "\n",
    "pd.set_option('display.max_columns', None)\n",
    "pd.set_option('display.width', 1000)"
   ]
  },
  {
   "cell_type": "code",
   "execution_count": 42,
   "id": "3cdb6ba5",
   "metadata": {},
   "outputs": [],
   "source": [
    "# crime_path = r\"C:\\Users\\NCC200\\Desktop\\TASK\\crime_work\\archive.zip\"\n",
    "# df = pd.read_csv(crime_path, low_memory=True, compression='zip')\n",
    "# df.tail()"
   ]
  },
  {
   "cell_type": "code",
   "execution_count": 43,
   "id": "0a9fa579",
   "metadata": {},
   "outputs": [],
   "source": [
    "def load_and_optimize_csv_clean(filepath, sample_size=5000, chunksize=100_000):\n",
    "    sample = pd.read_csv(filepath, nrows=sample_size, low_memory=False)\n",
    "\n",
    "    dtypes = {}\n",
    "    for col in sample.columns:\n",
    "        if sample[col].dtype == \"object\":\n",
    "            dtypes[col] = \"category\"\n",
    "        elif pd.api.types.is_integer_dtype(sample[col]):\n",
    "            dtypes[col] = \"Int32\"\n",
    "        elif pd.api.types.is_float_dtype(sample[col]):\n",
    "            dtypes[col] = \"float32\"\n",
    "        else:\n",
    "            dtypes[col] = sample[col].dtype\n",
    "\n",
    "    chunks = []\n",
    "    for chunk in pd.read_csv(filepath, dtype=dtypes, chunksize=chunksize, low_memory=False):\n",
    "        chunk = chunk.dropna().drop_duplicates()\n",
    "        chunks.append(chunk)\n",
    "\n",
    "    df_clean = pd.concat(chunks, ignore_index=True)\n",
    "    return df_clean\n"
   ]
  },
  {
   "cell_type": "code",
   "execution_count": 44,
   "id": "2c3bb244",
   "metadata": {},
   "outputs": [
    {
     "name": "stdout",
     "output_type": "stream",
     "text": [
      "Original shape: (7084435, 22)\n"
     ]
    }
   ],
   "source": [
    "df = load_and_optimize_csv_clean(r\"C:\\Users\\NCC200\\Desktop\\TASK\\crime_work\\archive.zip\")\n",
    "\n",
    "# Create a cleaned copy\n",
    "#df_clean = df.dropna().drop_duplicates()\n",
    "\n",
    "print(\"Original shape:\", df.shape)\n",
    "#print(\"Cleaned shape:\", df_clean.shape)"
   ]
  },
  {
   "cell_type": "code",
   "execution_count": 45,
   "id": "7e4bc5ad",
   "metadata": {},
   "outputs": [
    {
     "data": {
      "text/html": [
       "<div>\n",
       "<style scoped>\n",
       "    .dataframe tbody tr th:only-of-type {\n",
       "        vertical-align: middle;\n",
       "    }\n",
       "\n",
       "    .dataframe tbody tr th {\n",
       "        vertical-align: top;\n",
       "    }\n",
       "\n",
       "    .dataframe thead th {\n",
       "        text-align: right;\n",
       "    }\n",
       "</style>\n",
       "<table border=\"1\" class=\"dataframe\">\n",
       "  <thead>\n",
       "    <tr style=\"text-align: right;\">\n",
       "      <th></th>\n",
       "      <th>ID</th>\n",
       "      <th>Case Number</th>\n",
       "      <th>Date</th>\n",
       "      <th>Block</th>\n",
       "      <th>IUCR</th>\n",
       "      <th>Primary Type</th>\n",
       "      <th>Description</th>\n",
       "      <th>Location Description</th>\n",
       "      <th>Arrest</th>\n",
       "      <th>Domestic</th>\n",
       "      <th>Beat</th>\n",
       "      <th>District</th>\n",
       "      <th>Ward</th>\n",
       "      <th>Community Area</th>\n",
       "      <th>FBI Code</th>\n",
       "      <th>X Coordinate</th>\n",
       "      <th>Y Coordinate</th>\n",
       "      <th>Year</th>\n",
       "      <th>Updated On</th>\n",
       "      <th>Latitude</th>\n",
       "      <th>Longitude</th>\n",
       "      <th>Location</th>\n",
       "    </tr>\n",
       "  </thead>\n",
       "  <tbody>\n",
       "    <tr>\n",
       "      <th>0</th>\n",
       "      <td>10224738</td>\n",
       "      <td>HY411648</td>\n",
       "      <td>09/05/2015 01:30:00 PM</td>\n",
       "      <td>043XX S WOOD ST</td>\n",
       "      <td>0486</td>\n",
       "      <td>BATTERY</td>\n",
       "      <td>DOMESTIC BATTERY SIMPLE</td>\n",
       "      <td>RESIDENCE</td>\n",
       "      <td>False</td>\n",
       "      <td>True</td>\n",
       "      <td>924</td>\n",
       "      <td>9</td>\n",
       "      <td>12.0</td>\n",
       "      <td>61.0</td>\n",
       "      <td>08B</td>\n",
       "      <td>1165074.0</td>\n",
       "      <td>1875917.0</td>\n",
       "      <td>2015</td>\n",
       "      <td>02/10/2018 03:50:01 PM</td>\n",
       "      <td>41.815117</td>\n",
       "      <td>-87.669998</td>\n",
       "      <td>(41.815117282, -87.669999562)</td>\n",
       "    </tr>\n",
       "    <tr>\n",
       "      <th>1</th>\n",
       "      <td>10224739</td>\n",
       "      <td>HY411615</td>\n",
       "      <td>09/04/2015 11:30:00 AM</td>\n",
       "      <td>008XX N CENTRAL AVE</td>\n",
       "      <td>0870</td>\n",
       "      <td>THEFT</td>\n",
       "      <td>POCKET-PICKING</td>\n",
       "      <td>CTA BUS</td>\n",
       "      <td>False</td>\n",
       "      <td>False</td>\n",
       "      <td>1511</td>\n",
       "      <td>15</td>\n",
       "      <td>29.0</td>\n",
       "      <td>25.0</td>\n",
       "      <td>06</td>\n",
       "      <td>1138875.0</td>\n",
       "      <td>1904869.0</td>\n",
       "      <td>2015</td>\n",
       "      <td>02/10/2018 03:50:01 PM</td>\n",
       "      <td>41.895081</td>\n",
       "      <td>-87.765404</td>\n",
       "      <td>(41.895080471, -87.765400451)</td>\n",
       "    </tr>\n",
       "    <tr>\n",
       "      <th>2</th>\n",
       "      <td>10224740</td>\n",
       "      <td>HY411595</td>\n",
       "      <td>09/05/2015 12:45:00 PM</td>\n",
       "      <td>035XX W BARRY AVE</td>\n",
       "      <td>2023</td>\n",
       "      <td>NARCOTICS</td>\n",
       "      <td>POSS: HEROIN(BRN/TAN)</td>\n",
       "      <td>SIDEWALK</td>\n",
       "      <td>True</td>\n",
       "      <td>False</td>\n",
       "      <td>1412</td>\n",
       "      <td>14</td>\n",
       "      <td>35.0</td>\n",
       "      <td>21.0</td>\n",
       "      <td>18</td>\n",
       "      <td>1152037.0</td>\n",
       "      <td>1920384.0</td>\n",
       "      <td>2015</td>\n",
       "      <td>02/10/2018 03:50:01 PM</td>\n",
       "      <td>41.937405</td>\n",
       "      <td>-87.716652</td>\n",
       "      <td>(41.937405765, -87.716649687)</td>\n",
       "    </tr>\n",
       "    <tr>\n",
       "      <th>3</th>\n",
       "      <td>10224741</td>\n",
       "      <td>HY411610</td>\n",
       "      <td>09/05/2015 01:00:00 PM</td>\n",
       "      <td>0000X N LARAMIE AVE</td>\n",
       "      <td>0560</td>\n",
       "      <td>ASSAULT</td>\n",
       "      <td>SIMPLE</td>\n",
       "      <td>APARTMENT</td>\n",
       "      <td>False</td>\n",
       "      <td>True</td>\n",
       "      <td>1522</td>\n",
       "      <td>15</td>\n",
       "      <td>28.0</td>\n",
       "      <td>25.0</td>\n",
       "      <td>08A</td>\n",
       "      <td>1141706.0</td>\n",
       "      <td>1900086.0</td>\n",
       "      <td>2015</td>\n",
       "      <td>02/10/2018 03:50:01 PM</td>\n",
       "      <td>41.881905</td>\n",
       "      <td>-87.755119</td>\n",
       "      <td>(41.881903443, -87.755121152)</td>\n",
       "    </tr>\n",
       "    <tr>\n",
       "      <th>4</th>\n",
       "      <td>10224742</td>\n",
       "      <td>HY411435</td>\n",
       "      <td>09/05/2015 10:55:00 AM</td>\n",
       "      <td>082XX S LOOMIS BLVD</td>\n",
       "      <td>0610</td>\n",
       "      <td>BURGLARY</td>\n",
       "      <td>FORCIBLE ENTRY</td>\n",
       "      <td>RESIDENCE</td>\n",
       "      <td>False</td>\n",
       "      <td>False</td>\n",
       "      <td>614</td>\n",
       "      <td>6</td>\n",
       "      <td>21.0</td>\n",
       "      <td>71.0</td>\n",
       "      <td>05</td>\n",
       "      <td>1168430.0</td>\n",
       "      <td>1850165.0</td>\n",
       "      <td>2015</td>\n",
       "      <td>02/10/2018 03:50:01 PM</td>\n",
       "      <td>41.744377</td>\n",
       "      <td>-87.658432</td>\n",
       "      <td>(41.744378879, -87.658430635)</td>\n",
       "    </tr>\n",
       "  </tbody>\n",
       "</table>\n",
       "</div>"
      ],
      "text/plain": [
       "         ID Case Number                    Date                Block  IUCR Primary Type              Description Location Description  Arrest  Domestic  Beat  District  Ward  Community Area FBI Code  X Coordinate  Y Coordinate  Year              Updated On   Latitude  Longitude                       Location\n",
       "0  10224738    HY411648  09/05/2015 01:30:00 PM      043XX S WOOD ST  0486      BATTERY  DOMESTIC BATTERY SIMPLE            RESIDENCE   False      True   924         9  12.0            61.0      08B     1165074.0     1875917.0  2015  02/10/2018 03:50:01 PM  41.815117 -87.669998  (41.815117282, -87.669999562)\n",
       "1  10224739    HY411615  09/04/2015 11:30:00 AM  008XX N CENTRAL AVE  0870        THEFT           POCKET-PICKING              CTA BUS   False     False  1511        15  29.0            25.0       06     1138875.0     1904869.0  2015  02/10/2018 03:50:01 PM  41.895081 -87.765404  (41.895080471, -87.765400451)\n",
       "2  10224740    HY411595  09/05/2015 12:45:00 PM    035XX W BARRY AVE  2023    NARCOTICS    POSS: HEROIN(BRN/TAN)             SIDEWALK    True     False  1412        14  35.0            21.0       18     1152037.0     1920384.0  2015  02/10/2018 03:50:01 PM  41.937405 -87.716652  (41.937405765, -87.716649687)\n",
       "3  10224741    HY411610  09/05/2015 01:00:00 PM  0000X N LARAMIE AVE  0560      ASSAULT                   SIMPLE            APARTMENT   False      True  1522        15  28.0            25.0      08A     1141706.0     1900086.0  2015  02/10/2018 03:50:01 PM  41.881905 -87.755119  (41.881903443, -87.755121152)\n",
       "4  10224742    HY411435  09/05/2015 10:55:00 AM  082XX S LOOMIS BLVD  0610     BURGLARY           FORCIBLE ENTRY            RESIDENCE   False     False   614         6  21.0            71.0       05     1168430.0     1850165.0  2015  02/10/2018 03:50:01 PM  41.744377 -87.658432  (41.744378879, -87.658430635)"
      ]
     },
     "execution_count": 45,
     "metadata": {},
     "output_type": "execute_result"
    }
   ],
   "source": [
    "df.head()"
   ]
  },
  {
   "cell_type": "code",
   "execution_count": 46,
   "id": "71a09df1",
   "metadata": {},
   "outputs": [
    {
     "data": {
      "text/plain": [
       "Index(['ID', 'Case Number', 'Date', 'Block', 'IUCR', 'Primary Type', 'Description', 'Location Description', 'Arrest', 'Domestic', 'Beat', 'District', 'Ward', 'Community Area', 'FBI Code', 'X Coordinate', 'Y Coordinate', 'Year', 'Updated On', 'Latitude', 'Longitude', 'Location'], dtype='object')"
      ]
     },
     "execution_count": 46,
     "metadata": {},
     "output_type": "execute_result"
    }
   ],
   "source": [
    "df.columns"
   ]
  },
  {
   "cell_type": "code",
   "execution_count": 47,
   "id": "a01bdb6c",
   "metadata": {},
   "outputs": [
    {
     "name": "stdout",
     "output_type": "stream",
     "text": [
      "<class 'pandas.core.frame.DataFrame'>\n",
      "RangeIndex: 7084435 entries, 0 to 7084434\n",
      "Data columns (total 22 columns):\n",
      " #   Column                Dtype  \n",
      "---  ------                -----  \n",
      " 0   ID                    Int32  \n",
      " 1   Case Number           object \n",
      " 2   Date                  object \n",
      " 3   Block                 object \n",
      " 4   IUCR                  object \n",
      " 5   Primary Type          object \n",
      " 6   Description           object \n",
      " 7   Location Description  object \n",
      " 8   Arrest                bool   \n",
      " 9   Domestic              bool   \n",
      " 10  Beat                  Int32  \n",
      " 11  District              Int32  \n",
      " 12  Ward                  float32\n",
      " 13  Community Area        float32\n",
      " 14  FBI Code              object \n",
      " 15  X Coordinate          float32\n",
      " 16  Y Coordinate          float32\n",
      " 17  Year                  Int32  \n",
      " 18  Updated On            object \n",
      " 19  Latitude              float32\n",
      " 20  Longitude             float32\n",
      " 21  Location              object \n",
      "dtypes: Int32(4), bool(2), float32(6), object(10)\n",
      "memory usage: 851.3+ MB\n"
     ]
    }
   ],
   "source": [
    "df.info()"
   ]
  },
  {
   "cell_type": "code",
   "execution_count": 48,
   "id": "149d16b9",
   "metadata": {},
   "outputs": [
    {
     "data": {
      "text/plain": [
       "ID                      0\n",
       "Case Number             0\n",
       "Date                    0\n",
       "Block                   0\n",
       "IUCR                    0\n",
       "Primary Type            0\n",
       "Description             0\n",
       "Location Description    0\n",
       "Arrest                  0\n",
       "Domestic                0\n",
       "Beat                    0\n",
       "District                0\n",
       "Ward                    0\n",
       "Community Area          0\n",
       "FBI Code                0\n",
       "X Coordinate            0\n",
       "Y Coordinate            0\n",
       "Year                    0\n",
       "Updated On              0\n",
       "Latitude                0\n",
       "Longitude               0\n",
       "Location                0\n",
       "dtype: int64"
      ]
     },
     "execution_count": 48,
     "metadata": {},
     "output_type": "execute_result"
    }
   ],
   "source": [
    "df.isna().sum()"
   ]
  },
  {
   "cell_type": "code",
   "execution_count": 49,
   "id": "c917b6c1",
   "metadata": {},
   "outputs": [
    {
     "data": {
      "text/plain": [
       "ID                      7084435\n",
       "Case Number             7083910\n",
       "Date                    2935205\n",
       "Block                     37417\n",
       "IUCR                        401\n",
       "Primary Type                 35\n",
       "Description                 540\n",
       "Location Description        215\n",
       "Arrest                        2\n",
       "Domestic                      2\n",
       "Beat                        303\n",
       "District                     24\n",
       "Ward                         50\n",
       "Community Area               78\n",
       "FBI Code                     26\n",
       "X Coordinate              75460\n",
       "Y Coordinate             125705\n",
       "Year                         23\n",
       "Updated On                 4332\n",
       "Latitude                  92686\n",
       "Longitude                 38541\n",
       "Location                 672492\n",
       "dtype: int64"
      ]
     },
     "execution_count": 49,
     "metadata": {},
     "output_type": "execute_result"
    }
   ],
   "source": [
    "df.nunique()"
   ]
  },
  {
   "cell_type": "code",
   "execution_count": 54,
   "id": "50ecc8df",
   "metadata": {},
   "outputs": [
    {
     "data": {
      "text/plain": [
       "Ward  Arrest\n",
       "1.0   False     80.295352\n",
       "      True      19.704648\n",
       "2.0   False     70.281067\n",
       "      True      29.718933\n",
       "3.0   False     67.084868\n",
       "                  ...    \n",
       "48.0  True      23.762667\n",
       "49.0  False     74.028533\n",
       "      True      25.971467\n",
       "50.0  False     83.984327\n",
       "      True      16.015673\n",
       "Name: proportion, Length: 100, dtype: float64"
      ]
     },
     "execution_count": 54,
     "metadata": {},
     "output_type": "execute_result"
    }
   ],
   "source": [
    "arrest_district = df.groupby(\"Ward\")[\"Arrest\"].value_counts(normalize=True) * 100\n",
    "arrest_district\n",
    "# arrest_district.plot(kind=\"pie\", autopct='%1.1f%%')"
   ]
  },
  {
   "cell_type": "code",
   "execution_count": null,
   "id": "98e15193",
   "metadata": {},
   "outputs": [],
   "source": []
  }
 ],
 "metadata": {
  "kernelspec": {
   "display_name": "statenv",
   "language": "python",
   "name": "python3"
  },
  "language_info": {
   "codemirror_mode": {
    "name": "ipython",
    "version": 3
   },
   "file_extension": ".py",
   "mimetype": "text/x-python",
   "name": "python",
   "nbconvert_exporter": "python",
   "pygments_lexer": "ipython3",
   "version": "3.13.5"
  }
 },
 "nbformat": 4,
 "nbformat_minor": 5
}
