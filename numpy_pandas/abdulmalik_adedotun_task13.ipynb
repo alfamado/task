{
 "cells": [
  {
   "cell_type": "code",
   "execution_count": 4,
   "id": "8eaf290d",
   "metadata": {},
   "outputs": [
    {
     "name": "stdout",
     "output_type": "stream",
     "text": [
      "[[14  2 27 10 44 19]\n",
      " [ 2 30 15 13 47  4]\n",
      " [18 46 48 49 13  7]\n",
      " [33 38 20 40 35 39]\n",
      " [13 23 21 48 46 24]\n",
      " [44 49 24 11  4 28]]\n"
     ]
    }
   ],
   "source": [
    "# Question 1\n",
    "import numpy as np\n",
    "\n",
    "rand_int = np.random.randint (1, 51, size=(6, 6))\n",
    "print(rand_int)"
   ]
  },
  {
   "cell_type": "code",
   "execution_count": 6,
   "id": "dd720c9a",
   "metadata": {},
   "outputs": [
    {
     "name": "stdout",
     "output_type": "stream",
     "text": [
      "Array Rows:\n",
      "[[14  2 27 10 44 19]\n",
      " [ 2 30 15 13 47  4]]\n",
      "Array Column:\n",
      "[[10 44 19]\n",
      " [13 47  4]\n",
      " [49 13  7]\n",
      " [40 35 39]\n",
      " [48 46 24]\n",
      " [11  4 28]]\n",
      "Print even numbers in Array:\n",
      "[14  2 10 44  2 30  4 18 46 48 38 20 40 48 46 24 44 24  4 28]\n"
     ]
    }
   ],
   "source": [
    "# Question 2\n",
    "print(f\"Array Rows:\\n{rand_int[:2]}\")\n",
    "print(f\"Array Column:\\n{rand_int[:, 3:]}\")\n",
    "even_arr = rand_int[rand_int % 2 == 0]\n",
    "print(f\"Print even numbers in Array:\\n{even_arr}\")"
   ]
  },
  {
   "cell_type": "code",
   "execution_count": 9,
   "id": "6083732a",
   "metadata": {},
   "outputs": [
    {
     "name": "stdout",
     "output_type": "stream",
     "text": [
      "Reshaping array:\n",
      "[[[14  2 27 10 44 19]\n",
      "  [ 2 30 15 13 47  4]]\n",
      "\n",
      " [[18 46 48 49 13  7]\n",
      "  [33 38 20 40 35 39]]\n",
      "\n",
      " [[13 23 21 48 46 24]\n",
      "  [44 49 24 11  4 28]]]\n",
      "\n",
      "Flattened Array:\n",
      "[14  2 27 10 44 19  2 30 15 13 47  4 18 46 48 49 13  7 33 38 20 40 35 39\n",
      " 13 23 21 48 46 24 44 49 24 11  4 28]\n"
     ]
    }
   ],
   "source": [
    "# Question 3\n",
    "arr_reshape = rand_int.reshape(3, 2, 6)\n",
    "print(f\"Reshaping array:\\n{arr_reshape}\")\n",
    "\n",
    "flattening = rand_int.flatten()\n",
    "print(f\"\\nFlattened Array:\\n{flattening}\")"
   ]
  },
  {
   "cell_type": "code",
   "execution_count": 10,
   "id": "d0bafbda",
   "metadata": {},
   "outputs": [
    {
     "name": "stdout",
     "output_type": "stream",
     "text": [
      "Printing Identity matrix:\n",
      "[[1. 0. 0. 0.]\n",
      " [0. 1. 0. 0.]\n",
      " [0. 0. 1. 0.]\n",
      " [0. 0. 0. 1.]]\n",
      "\n",
      "Printing Diagonal Matrix:\n",
      "[[10  0  0  0]\n",
      " [ 0 20  0  0]\n",
      " [ 0  0 30  0]\n",
      " [ 0  0  0 40]]\n"
     ]
    }
   ],
   "source": [
    "# Question 4\n",
    "identity_arr = np.eye(4)\n",
    "print(f\"Printing Identity matrix:\\n{identity_arr}\")\n",
    "\n",
    "diagonal_arr = np.diag([10, 20, 30, 40])\n",
    "print(f\"\\nPrinting Diagonal Matrix:\\n{diagonal_arr}\")"
   ]
  },
  {
   "cell_type": "code",
   "execution_count": 11,
   "id": "43d93b01",
   "metadata": {},
   "outputs": [
    {
     "name": "stdout",
     "output_type": "stream",
     "text": [
      "First Operation Detail:\n",
      "[[10  4  7]\n",
      " [ 4  2  3]\n",
      " [ 7  6  7]\n",
      " [ 6 10  9]]\n",
      "\n",
      "Second Operation Detail:\n",
      "[[ 2  5  3  9]\n",
      " [ 5 10  1  6]\n",
      " [ 8  3  7  3]]\n",
      "\n",
      "Result of Operation of Matrix:\n",
      "[[ 96 111  83 135]\n",
      " [ 42  49  35  57]\n",
      " [100 116  76 120]\n",
      " [134 157  91 141]]\n"
     ]
    }
   ],
   "source": [
    "# Question 5\n",
    "mult_rand_arr1 = np.random.randint(1, 11, size=(4, 3))\n",
    "mult_rand_arr2 = np.random.randint(1, 11, size=(3, 4))\n",
    "\n",
    "print(f\"First Operation Detail:\\n{mult_rand_arr1}\")\n",
    "print(f\"\\nSecond Operation Detail:\\n{mult_rand_arr2}\")\n",
    "\n",
    "result = mult_rand_arr1 @ mult_rand_arr2\n",
    "print(f\"\\nResult of Operation of Matrix:\\n{result}\")"
   ]
  },
  {
   "cell_type": "code",
   "execution_count": 17,
   "id": "5662f4b7",
   "metadata": {},
   "outputs": [
    {
     "name": "stdout",
     "output_type": "stream",
     "text": [
      "Printing Array details without function:\n",
      "[[1 2 3]\n",
      " [4 5 6]]\n",
      "Printing Array after applying function:\n",
      "[[-1  4 -1]\n",
      " [16 -1 36]]\n"
     ]
    }
   ],
   "source": [
    "# Question 6\n",
    "def arr_function(arr_opr):\n",
    "    return np.where(arr_opr % 2 == 0, arr_opr ** 2, -1)\n",
    "\n",
    "arr_details = np.arange(1, 7).reshape(2, 3)\n",
    "print(f\"Printing Array details without function:\\n{arr_details}\")\n",
    "print(f\"Printing Array after applying function:\\n{arr_function(arr_details)}\")"
   ]
  },
  {
   "cell_type": "code",
   "execution_count": null,
   "id": "432b0475",
   "metadata": {},
   "outputs": [],
   "source": []
  }
 ],
 "metadata": {
  "kernelspec": {
   "display_name": "dataenv",
   "language": "python",
   "name": "python3"
  },
  "language_info": {
   "codemirror_mode": {
    "name": "ipython",
    "version": 3
   },
   "file_extension": ".py",
   "mimetype": "text/x-python",
   "name": "python",
   "nbconvert_exporter": "python",
   "pygments_lexer": "ipython3",
   "version": "3.13.5"
  }
 },
 "nbformat": 4,
 "nbformat_minor": 5
}
