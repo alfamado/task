{
 "cells": [
  {
   "cell_type": "markdown",
   "id": "19f657c7",
   "metadata": {},
   "source": [
    "```c\n",
    "In Pandas, the .str.normalize() method is used to normalize strings in a Series or Index to a specified Unicode normalization form. This is particularly useful when working with text data that may have different representations of the same characters (e.g., accented characters).\n",
    "\n",
    "Syntax\n",
    "Series.str.normalize(form)\n",
    "\n",
    "Parameters\n",
    "form: A string specifying the Unicode normalization form. Options include:\n",
    "'NFC': Normalization Form C (Canonical Composition)\n",
    "'NFKC': Normalization Form KC (Compatibility Composition)\n",
    "'NFD': Normalization Form D (Canonical Decomposition)\n",
    "'NFKD': Normalization Form KD (Compatibility Decomposition)\n",
    "Returns\n",
    "A Series or Index with normalized strings.\n",
    "```"
   ]
  },
  {
   "cell_type": "code",
   "execution_count": 1,
   "id": "14a76dd0",
   "metadata": {},
   "outputs": [
    {
     "name": "stdout",
     "output_type": "stream",
     "text": [
      "0      café\n",
      "1    cóffee\n",
      "2     naïve\n",
      "3     naïve\n",
      "dtype: object\n",
      "0      café\n",
      "1    cóffee\n",
      "2     naïve\n",
      "3     naïve\n",
      "dtype: object\n"
     ]
    }
   ],
   "source": [
    "# Example\n",
    "import pandas as pd\n",
    "\n",
    "# Sample data\n",
    "data = pd.Series(['café', 'co\\u0301ffee', 'naïve', 'na\\u00efve'])\n",
    "\n",
    "# Normalize to NFC (Canonical Composition)\n",
    "normalized_nfc = data.str.normalize('NFC')\n",
    "print(normalized_nfc)\n",
    "\n",
    "# Normalize to NFD (Canonical Decomposition)\n",
    "normalized_nfd = data.str.normalize('NFD')\n",
    "print(normalized_nfd)"
   ]
  },
  {
   "cell_type": "code",
   "execution_count": 3,
   "id": "96ab49e0",
   "metadata": {},
   "outputs": [
    {
     "name": "stdout",
     "output_type": "stream",
     "text": [
      "0      café\n",
      "1    cóffee\n",
      "2     naïve\n",
      "3     naïve\n",
      "dtype: object\n",
      "0      café\n",
      "1    cóffee\n",
      "2     naïve\n",
      "3     naïve\n",
      "dtype: object\n"
     ]
    }
   ],
   "source": [
    "datas = pd.Series(['café', 'co\\u0301ffee', 'naïve', 'na\\u00efve'])\n",
    "\n",
    "normalized_nfkc = datas.str.normalize('NFKC')\n",
    "print(normalized_nfkc)\n",
    "\n",
    "normalized_nfkd = datas.str.normalize('NFKD')\n",
    "print(normalized_nfkd)"
   ]
  },
  {
   "cell_type": "code",
   "execution_count": 5,
   "id": "7d3719c1",
   "metadata": {},
   "outputs": [
    {
     "name": "stdout",
     "output_type": "stream",
     "text": [
      "0    ami ohùn ìsàlẹ\n",
      "1    ami ohùn àárín\n",
      "2      ami ohùn òkè\n",
      "dtype: object\n",
      "0    ami ohùn ìsàlẹ\n",
      "1    ami ohùn àárín\n",
      "2       ami ohùn òkè\n",
      "dtype: object\n"
     ]
    }
   ],
   "source": [
    "yoruba_accent = pd.Series(['ami ohùn ìsàlẹ', 'ami ohùn àárín', 'ami ohùn òkè'])\n",
    "\n",
    "normalized_nfkc = yoruba_accent.str.normalize('NFC')\n",
    "print(normalized_nfkc)\n",
    "\n",
    "normalized_nfkd = yoruba_accent.str.normalize('NFD')\n",
    "print(normalized_nfkd)"
   ]
  },
  {
   "cell_type": "code",
   "execution_count": null,
   "id": "12174b6f",
   "metadata": {},
   "outputs": [],
   "source": []
  }
 ],
 "metadata": {
  "kernelspec": {
   "display_name": "dataenv",
   "language": "python",
   "name": "python3"
  },
  "language_info": {
   "codemirror_mode": {
    "name": "ipython",
    "version": 3
   },
   "file_extension": ".py",
   "mimetype": "text/x-python",
   "name": "python",
   "nbconvert_exporter": "python",
   "pygments_lexer": "ipython3",
   "version": "3.13.5"
  }
 },
 "nbformat": 4,
 "nbformat_minor": 5
}
